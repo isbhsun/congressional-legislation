{
 "cells": [
  {
   "cell_type": "code",
   "execution_count": 1,
   "metadata": {},
   "outputs": [],
   "source": [
    "import re\n",
    "\n",
    "import numpy as np\n",
    "import pandas as pd\n",
    "from sklearn.decomposition import LatentDirichletAllocation\n",
    "from sklearn.feature_extraction.text import ENGLISH_STOP_WORDS, CountVectorizer\n",
    "from sklearn.metrics.pairwise import cosine_distances, euclidean_distances\n",
    "from sklearn.model_selection import GridSearchCV, train_test_split\n",
    "\n",
    "from sklearn.model_selection import RandomizedSearchCV, train_test_split\n",
    "from nltk.corpus import stopwords\n",
    "from scipy import stats"
   ]
  },
  {
   "cell_type": "code",
   "execution_count": 2,
   "metadata": {},
   "outputs": [],
   "source": [
    "import joblib"
   ]
  },
  {
   "cell_type": "code",
   "execution_count": 3,
   "metadata": {},
   "outputs": [],
   "source": [
    "bill_text_df = pd.read_csv('116bill_text.csv')"
   ]
  },
  {
   "cell_type": "code",
   "execution_count": 4,
   "metadata": {},
   "outputs": [
    {
     "name": "stdout",
     "output_type": "stream",
     "text": [
      "<class 'pandas.core.frame.DataFrame'>\n",
      "RangeIndex: 14167 entries, 0 to 14166\n",
      "Data columns (total 3 columns):\n",
      " #   Column    Non-Null Count  Dtype \n",
      "---  ------    --------------  ----- \n",
      " 0   bill_num  14167 non-null  object\n",
      " 1   type      14167 non-null  object\n",
      " 2   text      14167 non-null  object\n",
      "dtypes: object(3)\n",
      "memory usage: 332.2+ KB\n"
     ]
    }
   ],
   "source": [
    "bill_text_df.pop('Unnamed: 0')\n",
    "bill_text_df.info()"
   ]
  },
  {
   "cell_type": "code",
   "execution_count": 5,
   "metadata": {},
   "outputs": [
    {
     "data": {
      "text/html": [
       "<div>\n",
       "<style scoped>\n",
       "    .dataframe tbody tr th:only-of-type {\n",
       "        vertical-align: middle;\n",
       "    }\n",
       "\n",
       "    .dataframe tbody tr th {\n",
       "        vertical-align: top;\n",
       "    }\n",
       "\n",
       "    .dataframe thead th {\n",
       "        text-align: right;\n",
       "    }\n",
       "</style>\n",
       "<table border=\"1\" class=\"dataframe\">\n",
       "  <thead>\n",
       "    <tr style=\"text-align: right;\">\n",
       "      <th></th>\n",
       "      <th>bill_num</th>\n",
       "      <th>type</th>\n",
       "      <th>text</th>\n",
       "    </tr>\n",
       "  </thead>\n",
       "  <tbody>\n",
       "    <tr>\n",
       "      <th>0</th>\n",
       "      <td>s1379</td>\n",
       "      <td>enr</td>\n",
       "      <td>html   body   pre                  s        ...</td>\n",
       "    </tr>\n",
       "    <tr>\n",
       "      <th>1</th>\n",
       "      <td>s1977</td>\n",
       "      <td>is</td>\n",
       "      <td>html   body   pre           lt doc gt       ...</td>\n",
       "    </tr>\n",
       "    <tr>\n",
       "      <th>2</th>\n",
       "      <td>s4439</td>\n",
       "      <td>is</td>\n",
       "      <td>html   body   pre           lt doc gt       ...</td>\n",
       "    </tr>\n",
       "    <tr>\n",
       "      <th>3</th>\n",
       "      <td>s3278</td>\n",
       "      <td>is</td>\n",
       "      <td>html   body   pre           lt doc gt       ...</td>\n",
       "    </tr>\n",
       "    <tr>\n",
       "      <th>4</th>\n",
       "      <td>s4861</td>\n",
       "      <td>is</td>\n",
       "      <td>html   body   pre           lt doc gt       ...</td>\n",
       "    </tr>\n",
       "    <tr>\n",
       "      <th>...</th>\n",
       "      <td>...</td>\n",
       "      <td>...</td>\n",
       "      <td>...</td>\n",
       "    </tr>\n",
       "    <tr>\n",
       "      <th>14162</th>\n",
       "      <td>hjres109</td>\n",
       "      <td>ih</td>\n",
       "      <td>html   body   pre           lt doc gt       ...</td>\n",
       "    </tr>\n",
       "    <tr>\n",
       "      <th>14163</th>\n",
       "      <td>hjres7</td>\n",
       "      <td>ih</td>\n",
       "      <td>html   body   pre           lt doc gt       ...</td>\n",
       "    </tr>\n",
       "    <tr>\n",
       "      <th>14164</th>\n",
       "      <td>hjres107</td>\n",
       "      <td>enr</td>\n",
       "      <td>html   body   pre                  h j res  ...</td>\n",
       "    </tr>\n",
       "    <tr>\n",
       "      <th>14165</th>\n",
       "      <td>hjres9</td>\n",
       "      <td>ih</td>\n",
       "      <td>html   body   pre           lt doc gt       ...</td>\n",
       "    </tr>\n",
       "    <tr>\n",
       "      <th>14166</th>\n",
       "      <td>hjres100</td>\n",
       "      <td>ih</td>\n",
       "      <td>html   body   pre           lt doc gt       ...</td>\n",
       "    </tr>\n",
       "  </tbody>\n",
       "</table>\n",
       "<p>14167 rows × 3 columns</p>\n",
       "</div>"
      ],
      "text/plain": [
       "       bill_num type                                               text\n",
       "0         s1379  enr    html   body   pre                  s        ...\n",
       "1         s1977   is    html   body   pre           lt doc gt       ...\n",
       "2         s4439   is    html   body   pre           lt doc gt       ...\n",
       "3         s3278   is    html   body   pre           lt doc gt       ...\n",
       "4         s4861   is    html   body   pre           lt doc gt       ...\n",
       "...         ...  ...                                                ...\n",
       "14162  hjres109   ih    html   body   pre           lt doc gt       ...\n",
       "14163    hjres7   ih    html   body   pre           lt doc gt       ...\n",
       "14164  hjres107  enr    html   body   pre                  h j res  ...\n",
       "14165    hjres9   ih    html   body   pre           lt doc gt       ...\n",
       "14166  hjres100   ih    html   body   pre           lt doc gt       ...\n",
       "\n",
       "[14167 rows x 3 columns]"
      ]
     },
     "execution_count": 5,
     "metadata": {},
     "output_type": "execute_result"
    }
   ],
   "source": [
    "bill_text_df"
   ]
  },
  {
   "cell_type": "code",
   "execution_count": 10,
   "metadata": {},
   "outputs": [],
   "source": [
    "stopwords_ = set(stopwords.words('english'))\n",
    "additional_stopwords = ('congress', 'act', 'states', 'united', \n",
    "                        'house', '116th', 'html', 'bill', 'introduced', \n",
    "                        'title','gt', 'subsection', 'paragraph', 'subparagraph',\n",
    "                        'insert', 'section', 'mr', 'ms', 'shall', 'sec')\n",
    "roman_numerals = ('i', 'ii', 'iii', 'iv', 'v', 'vi', 'vii', 'viii', 'ix', 'x', 'xi', 'xii', 'xiii', 'xiv')\n",
    "stopwords_ = stopwords_.union(additional_stopwords)\n",
    "stopwords_ = stopwords_.union(roman_numerals)\n",
    "\n",
    "tf_vectorizer = CountVectorizer(stop_words=stopwords_, \n",
    "                                max_df=0.85, min_df=2, \n",
    "                                max_features=5000)\n",
    "\n",
    "word_vec = tf_vectorizer.fit_transform(bill_text_df.text)\n"
   ]
  },
  {
   "cell_type": "code",
   "execution_count": 11,
   "metadata": {},
   "outputs": [],
   "source": [
    "#trying with tfidf\n",
    "from sklearn.feature_extraction.text import CountVectorizer, TfidfVectorizer\n",
    "\n",
    "vectorizer = TfidfVectorizer(max_features=5000, max_df=0.9, min_df=3, stop_words=stopwords_)\n",
    "word_vec = vectorizer.fit_transform(bill_text_df.text)"
   ]
  },
  {
   "cell_type": "code",
   "execution_count": 12,
   "metadata": {},
   "outputs": [
    {
     "data": {
      "text/plain": [
       "LatentDirichletAllocation(learning_method='online', n_components=14, n_jobs=-2,\n",
       "                          random_state=0)"
      ]
     },
     "execution_count": 12,
     "metadata": {},
     "output_type": "execute_result"
    }
   ],
   "source": [
    "from sklearn.decomposition import LatentDirichletAllocation\n",
    "\n",
    "lda = LatentDirichletAllocation(learning_method='online',\n",
    "                                n_jobs=-2,\n",
    "                                random_state=0, \n",
    "                                n_components = 14,)\n",
    "lda.fit(word_vec)"
   ]
  },
  {
   "cell_type": "code",
   "execution_count": 77,
   "metadata": {
    "scrolled": true
   },
   "outputs": [
    {
     "data": {
      "text/plain": [
       "['tf_vec.joblib']"
      ]
     },
     "execution_count": 77,
     "metadata": {},
     "output_type": "execute_result"
    }
   ],
   "source": [
    "joblib.dump(lda, 'lda_model.joblib')\n",
    "joblib.dump(tf_vectorizer, 'tf_vec.joblib')"
   ]
  },
  {
   "cell_type": "code",
   "execution_count": 78,
   "metadata": {},
   "outputs": [],
   "source": [
    "lda = joblib.load('lda_model.joblib')\n",
    "tf_vectorizer = joblib.load('tf_vec.joblib')"
   ]
  },
  {
   "cell_type": "code",
   "execution_count": 13,
   "metadata": {},
   "outputs": [
    {
     "data": {
      "text/plain": [
       "array([[0.07142865, 0.07142857, 0.07142857, ..., 0.07142859, 0.07142863,\n",
       "        0.07142857],\n",
       "       [0.07142861, 0.07142857, 0.07143138, ..., 0.07142857, 0.07142857,\n",
       "        0.07142857],\n",
       "       [0.07142857, 0.07142857, 0.07142857, ..., 0.07142857, 0.07142857,\n",
       "        0.07142857],\n",
       "       ...,\n",
       "       [0.07142857, 0.07142857, 0.07142857, ..., 0.07142857, 0.07142857,\n",
       "        0.07142857],\n",
       "       [0.07142859, 0.0714286 , 0.07142864, ..., 0.07142872, 0.07142868,\n",
       "        0.07142857],\n",
       "       [0.07142889, 0.07142911, 0.07142865, ..., 0.07142876, 0.07143023,\n",
       "        0.07142917]])"
      ]
     },
     "execution_count": 13,
     "metadata": {},
     "output_type": "execute_result"
    }
   ],
   "source": [
    "lda.components_"
   ]
  },
  {
   "cell_type": "code",
   "execution_count": 14,
   "metadata": {},
   "outputs": [],
   "source": [
    "def top_topic_features(model, feature_names, num_features=15):\n",
    "    sorted_topics = feature_names[model.components_.argsort(axis=1)[:, ::-1][:, :num_features]]\n",
    "    return sorted_topics\n"
   ]
  },
  {
   "cell_type": "code",
   "execution_count": 15,
   "metadata": {},
   "outputs": [
    {
     "data": {
      "text/plain": [
       "array([['elderly', 'vote', 'ballot', 'volunteer', 'voter', 'ceiling',\n",
       "        'register', 'magnum', 'absentee', 'political', 'rico', 'cash',\n",
       "        'offering', 'battlefield', 'redesignate'],\n",
       "       ['operator', 'addiction', 'ninth', 'horse', 'packer', 'pakistan',\n",
       "        'oceans', 'franchisee', 'overall', 'abatement', 'competitive',\n",
       "        'origination', 'hereafter', 'coronavirus', 'maximum'],\n",
       "       ['futures', 'ride', 'battalion', 'acres', 'type', 'ar',\n",
       "        'occupant', 'therapeutic', 'precede', 'class', 'car',\n",
       "        'assessment', 'sustainment', 'merger', 'heading'],\n",
       "       ['futures', 'ride', 'battalion', 'type', 'task', 'acres', 'ar',\n",
       "        'precede', 'class', 'car', 'sustainment', 'merger', 'heading',\n",
       "        'tax', 'forgive'],\n",
       "       ['post', 'possibility', 'abortion', 'reef', 'build', 'offering',\n",
       "        'cohort', 'preserve', 'facilities', 'members', 'desert',\n",
       "        'locality', 'six', 'humanitarian', 'warren'],\n",
       "       ['vegetation', 'motion', 'alzheimer', 'trail', 'monitoring',\n",
       "        'saving', 'structure', 'algal', 'tlaib', 'limitations', 'stress',\n",
       "        'pocket', 'realize', 'perform', 'play'],\n",
       "       ['noncompliance', 'identify', 'handle', 'employ', 'futures',\n",
       "        'drop', 'cover', 'arbitration', 'emphasize', 'workplace', 'ride',\n",
       "        'disproportionate', 'battalion', 'agreement', 'compile'],\n",
       "       ['secrecy', 'profiling', 'amend', 'stat', 'headquarters',\n",
       "        'serious', 'year', 'february', 'cobra', 'incident', 'prototype',\n",
       "        'stretch', 'indirect', 'tenure', 'grande'],\n",
       "       ['insular', 'unless', 'donor', 'typically', 'hope', 'quota',\n",
       "        'concurrently', 'aircraft', 'anti', 'honor', 'download',\n",
       "        'whereas', 'aerial', 'spending', 'adherence'],\n",
       "       ['herein', 'tnc', 'material', 'newspaper', 'stalk', 'fish',\n",
       "        'church', 'preferential', 'postal', 'semiautomatic',\n",
       "        'materially', 'moratorium', 'witness', 'bay', 'smithsonian'],\n",
       "       ['mechanism', 'go', 'standing', 'duly', 'presence', 'numerical',\n",
       "        'smith', 'temporary', 'lynch', 'overdose', 'input', 'privileged',\n",
       "        'suitability', 'elimination', 'iron'],\n",
       "       ['text', 'futures', 'reentry', 'freely', 'creek', 'assistance',\n",
       "        'elevation', 'postpartum', 'ride', 'stimulate', 'battalion',\n",
       "        'entitle', 'schedule', 'montana', 'profiling'],\n",
       "       ['novo', 'coalition', 'guaranteed', 'rush', 'federal',\n",
       "        'treatment', 'arctic', 'wealth', 'misrepresentation', 'rural',\n",
       "        'jr', 'crude', 'lawful', 'command', 'india'],\n",
       "       ['lake', 'paris', 'forensic', 'manufacturing', 'nasa', 'riot',\n",
       "        'wildland', 'wild', 'area', 'intergovernmental', 'man',\n",
       "        'borrowing', 'country', 'convey', 'month']], dtype='<U19')"
      ]
     },
     "execution_count": 15,
     "metadata": {},
     "output_type": "execute_result"
    }
   ],
   "source": [
    "feature_names = np.array(tf_vectorizer.get_feature_names())\n",
    "top_topic_features(lda, feature_names=feature_names)"
   ]
  },
  {
   "cell_type": "code",
   "execution_count": 83,
   "metadata": {},
   "outputs": [],
   "source": [
    "X_train, X_test = train_test_split(word_vec, random_state=0)\n",
    "\n",
    "params = {'n_components': [8, 9, 10, 11, 12, 13, 14, 15, 16], \n",
    "          'doc_topic_prior': stats.uniform(),\n",
    "          'topic_word_prior': stats.uniform(),\n",
    "          'learning_offset': stats.uniform(10, 90)}\n",
    "lda.set_params(**{'verbose': 0, 'n_jobs': -2})\n",
    "lda_cv = RandomizedSearchCV(lda, params, n_iter=1, n_jobs=-2)\n",
    "\n",
    "results = {'mean_test_score': [],\n",
    "'std_test_score': [],\n",
    "'params': []}"
   ]
  },
  {
   "cell_type": "code",
   "execution_count": 84,
   "metadata": {},
   "outputs": [],
   "source": [
    "n_iter = 10\n",
    "\n",
    "for _ in range(n_iter):\n",
    "    lda_cv.fit(X_train)\n",
    "    results['mean_test_score'].append(lda_cv.cv_results_['mean_test_score'][0])\n",
    "    results['std_test_score'].append(lda_cv.cv_results_['std_test_score'][0])\n",
    "    results['params'].append(lda_cv.cv_results_['params'][0])"
   ]
  },
  {
   "cell_type": "code",
   "execution_count": 94,
   "metadata": {},
   "outputs": [],
   "source": [
    "df_results = pd.DataFrame(results)\n",
    "df_results.to_csv('lda_tuning.csv', index=False)"
   ]
  },
  {
   "cell_type": "code",
   "execution_count": 95,
   "metadata": {},
   "outputs": [
    {
     "data": {
      "text/html": [
       "<div>\n",
       "<style scoped>\n",
       "    .dataframe tbody tr th:only-of-type {\n",
       "        vertical-align: middle;\n",
       "    }\n",
       "\n",
       "    .dataframe tbody tr th {\n",
       "        vertical-align: top;\n",
       "    }\n",
       "\n",
       "    .dataframe thead th {\n",
       "        text-align: right;\n",
       "    }\n",
       "</style>\n",
       "<table border=\"1\" class=\"dataframe\">\n",
       "  <thead>\n",
       "    <tr style=\"text-align: right;\">\n",
       "      <th></th>\n",
       "      <th>mean_test_score</th>\n",
       "      <th>std_test_score</th>\n",
       "      <th>params</th>\n",
       "    </tr>\n",
       "  </thead>\n",
       "  <tbody>\n",
       "    <tr>\n",
       "      <th>0</th>\n",
       "      <td>-1.271305e+07</td>\n",
       "      <td>1.050444e+06</td>\n",
       "      <td>{'doc_topic_prior': 0.12246925172545775, 'lear...</td>\n",
       "    </tr>\n",
       "    <tr>\n",
       "      <th>1</th>\n",
       "      <td>-1.269519e+07</td>\n",
       "      <td>1.047662e+06</td>\n",
       "      <td>{'doc_topic_prior': 0.8373986825327147, 'learn...</td>\n",
       "    </tr>\n",
       "    <tr>\n",
       "      <th>2</th>\n",
       "      <td>-1.277875e+07</td>\n",
       "      <td>1.078701e+06</td>\n",
       "      <td>{'doc_topic_prior': 0.39107048660397303, 'lear...</td>\n",
       "    </tr>\n",
       "    <tr>\n",
       "      <th>3</th>\n",
       "      <td>-1.267063e+07</td>\n",
       "      <td>1.050531e+06</td>\n",
       "      <td>{'doc_topic_prior': 0.41222948099047985, 'lear...</td>\n",
       "    </tr>\n",
       "    <tr>\n",
       "      <th>4</th>\n",
       "      <td>-1.283900e+07</td>\n",
       "      <td>1.073545e+06</td>\n",
       "      <td>{'doc_topic_prior': 0.8387933849302702, 'learn...</td>\n",
       "    </tr>\n",
       "    <tr>\n",
       "      <th>5</th>\n",
       "      <td>-1.275867e+07</td>\n",
       "      <td>1.050105e+06</td>\n",
       "      <td>{'doc_topic_prior': 0.27506917734206915, 'lear...</td>\n",
       "    </tr>\n",
       "    <tr>\n",
       "      <th>6</th>\n",
       "      <td>-1.270786e+07</td>\n",
       "      <td>1.049039e+06</td>\n",
       "      <td>{'doc_topic_prior': 0.6801782077844617, 'learn...</td>\n",
       "    </tr>\n",
       "    <tr>\n",
       "      <th>7</th>\n",
       "      <td>-1.275279e+07</td>\n",
       "      <td>1.048893e+06</td>\n",
       "      <td>{'doc_topic_prior': 0.3287094284099852, 'learn...</td>\n",
       "    </tr>\n",
       "    <tr>\n",
       "      <th>8</th>\n",
       "      <td>-1.267566e+07</td>\n",
       "      <td>1.059974e+06</td>\n",
       "      <td>{'doc_topic_prior': 0.73544623886862, 'learnin...</td>\n",
       "    </tr>\n",
       "    <tr>\n",
       "      <th>9</th>\n",
       "      <td>-1.273649e+07</td>\n",
       "      <td>1.043974e+06</td>\n",
       "      <td>{'doc_topic_prior': 0.2994912602346441, 'learn...</td>\n",
       "    </tr>\n",
       "  </tbody>\n",
       "</table>\n",
       "</div>"
      ],
      "text/plain": [
       "   mean_test_score  std_test_score  \\\n",
       "0    -1.271305e+07    1.050444e+06   \n",
       "1    -1.269519e+07    1.047662e+06   \n",
       "2    -1.277875e+07    1.078701e+06   \n",
       "3    -1.267063e+07    1.050531e+06   \n",
       "4    -1.283900e+07    1.073545e+06   \n",
       "5    -1.275867e+07    1.050105e+06   \n",
       "6    -1.270786e+07    1.049039e+06   \n",
       "7    -1.275279e+07    1.048893e+06   \n",
       "8    -1.267566e+07    1.059974e+06   \n",
       "9    -1.273649e+07    1.043974e+06   \n",
       "\n",
       "                                              params  \n",
       "0  {'doc_topic_prior': 0.12246925172545775, 'lear...  \n",
       "1  {'doc_topic_prior': 0.8373986825327147, 'learn...  \n",
       "2  {'doc_topic_prior': 0.39107048660397303, 'lear...  \n",
       "3  {'doc_topic_prior': 0.41222948099047985, 'lear...  \n",
       "4  {'doc_topic_prior': 0.8387933849302702, 'learn...  \n",
       "5  {'doc_topic_prior': 0.27506917734206915, 'lear...  \n",
       "6  {'doc_topic_prior': 0.6801782077844617, 'learn...  \n",
       "7  {'doc_topic_prior': 0.3287094284099852, 'learn...  \n",
       "8  {'doc_topic_prior': 0.73544623886862, 'learnin...  \n",
       "9  {'doc_topic_prior': 0.2994912602346441, 'learn...  "
      ]
     },
     "execution_count": 95,
     "metadata": {},
     "output_type": "execute_result"
    }
   ],
   "source": [
    "df_results"
   ]
  },
  {
   "cell_type": "code",
   "execution_count": 86,
   "metadata": {},
   "outputs": [],
   "source": [
    "thing = df_results['params']"
   ]
  },
  {
   "cell_type": "code",
   "execution_count": 93,
   "metadata": {},
   "outputs": [
    {
     "name": "stdout",
     "output_type": "stream",
     "text": [
      "{'doc_topic_prior': 0.12246925172545775, 'learning_offset': 42.936564106507426, 'n_components': 14, 'topic_word_prior': 0.8894895831552581}\n",
      "{'doc_topic_prior': 0.8373986825327147, 'learning_offset': 50.727836635620285, 'n_components': 14, 'topic_word_prior': 0.012842900659330136}\n",
      "{'doc_topic_prior': 0.39107048660397303, 'learning_offset': 54.06028475400152, 'n_components': 9, 'topic_word_prior': 0.06761739037782155}\n",
      "{'doc_topic_prior': 0.41222948099047985, 'learning_offset': 91.86860557710408, 'n_components': 16, 'topic_word_prior': 0.4890108026487656}\n",
      "{'doc_topic_prior': 0.8387933849302702, 'learning_offset': 65.49550904704746, 'n_components': 8, 'topic_word_prior': 0.8947303138113302}\n",
      "{'doc_topic_prior': 0.27506917734206915, 'learning_offset': 43.875365804729775, 'n_components': 11, 'topic_word_prior': 0.9673306224691209}\n",
      "{'doc_topic_prior': 0.6801782077844617, 'learning_offset': 26.54815391242329, 'n_components': 14, 'topic_word_prior': 0.6573087723900943}\n",
      "{'doc_topic_prior': 0.3287094284099852, 'learning_offset': 29.53325523522832, 'n_components': 10, 'topic_word_prior': 0.7452470612184091}\n",
      "{'doc_topic_prior': 0.73544623886862, 'learning_offset': 92.45412884409566, 'n_components': 14, 'topic_word_prior': 0.1079632535228453}\n",
      "{'doc_topic_prior': 0.2994912602346441, 'learning_offset': 60.94317637248569, 'n_components': 12, 'topic_word_prior': 0.9014081347555966}\n"
     ]
    }
   ],
   "source": [
    "for i in range(10):\n",
    "    print(thing[i])"
   ]
  },
  {
   "cell_type": "code",
   "execution_count": 16,
   "metadata": {},
   "outputs": [],
   "source": [
    "#from reviewmodel import ReviewLDA # OOP file for LDA and GridSearchCV process\n",
    "import pyLDAvis\n",
    "import pyLDAvis.sklearn\n"
   ]
  },
  {
   "cell_type": "code",
   "execution_count": 34,
   "metadata": {},
   "outputs": [
    {
     "name": "stderr",
     "output_type": "stream",
     "text": [
      "/Users/isabella/opt/anaconda3/lib/python3.7/site-packages/ipykernel/ipkernel.py:287: DeprecationWarning: `should_run_async` will not call `transform_cell` automatically in the future. Please pass the result to `transformed_cell` argument and any exception that happen during thetransform in `preprocessing_exc_tuple` in IPython 7.17 and above.\n",
      "  and should_run_async(code)\n"
     ]
    },
    {
     "data": {
      "text/plain": [
       "LatentDirichletAllocation(learning_method='online', n_components=20, n_jobs=-1,\n",
       "                          random_state=0)"
      ]
     },
     "execution_count": 34,
     "metadata": {},
     "output_type": "execute_result"
    }
   ],
   "source": [
    "vectorizer = TfidfVectorizer(max_features=5000, stop_words=stopwords_)\n",
    "word_vec = vectorizer.fit_transform(bill_text_df.text)\n",
    "\n",
    "neg_lda = LatentDirichletAllocation(learning_method='online',\n",
    "                                n_jobs=-1,\n",
    "                                random_state=0, \n",
    "                                n_components = 20)\n",
    "\n",
    "neg_lda.fit(word_vec)\n",
    "\n"
   ]
  },
  {
   "cell_type": "code",
   "execution_count": 30,
   "metadata": {},
   "outputs": [
    {
     "name": "stderr",
     "output_type": "stream",
     "text": [
      "/Users/isabella/opt/anaconda3/lib/python3.7/site-packages/ipykernel/ipkernel.py:287: DeprecationWarning: `should_run_async` will not call `transform_cell` automatically in the future. Please pass the result to `transformed_cell` argument and any exception that happen during thetransform in `preprocessing_exc_tuple` in IPython 7.17 and above.\n",
      "  and should_run_async(code)\n"
     ]
    }
   ],
   "source": []
  },
  {
   "cell_type": "code",
   "execution_count": 35,
   "metadata": {},
   "outputs": [
    {
     "name": "stderr",
     "output_type": "stream",
     "text": [
      "/Users/isabella/opt/anaconda3/lib/python3.7/site-packages/ipykernel/ipkernel.py:287: DeprecationWarning: `should_run_async` will not call `transform_cell` automatically in the future. Please pass the result to `transformed_cell` argument and any exception that happen during thetransform in `preprocessing_exc_tuple` in IPython 7.17 and above.\n",
      "  and should_run_async(code)\n"
     ]
    },
    {
     "ename": "TypeError",
     "evalue": "Object of type complex is not JSON serializable",
     "output_type": "error",
     "traceback": [
      "\u001b[0;31m---------------------------------------------------------------------------\u001b[0m",
      "\u001b[0;31mTypeError\u001b[0m                                 Traceback (most recent call last)",
      "\u001b[0;32m<ipython-input-35-5813551bd60f>\u001b[0m in \u001b[0;36m<module>\u001b[0;34m\u001b[0m\n\u001b[1;32m      1\u001b[0m \u001b[0mneg_ldavis\u001b[0m \u001b[0;34m=\u001b[0m \u001b[0mpyLDAvis\u001b[0m\u001b[0;34m.\u001b[0m\u001b[0msklearn\u001b[0m\u001b[0;34m.\u001b[0m\u001b[0mprepare\u001b[0m\u001b[0;34m(\u001b[0m\u001b[0mneg_lda\u001b[0m\u001b[0;34m,\u001b[0m \u001b[0mword_vec\u001b[0m\u001b[0;34m,\u001b[0m \u001b[0mvectorizer\u001b[0m\u001b[0;34m)\u001b[0m \u001b[0;31m#Pass model, document-term matrix, and tfidf vectors to pyLDAvis.sklearn package\u001b[0m\u001b[0;34m\u001b[0m\u001b[0;34m\u001b[0m\u001b[0m\n\u001b[0;32m----> 2\u001b[0;31m \u001b[0mpyLDAvis\u001b[0m\u001b[0;34m.\u001b[0m\u001b[0mdisplay\u001b[0m\u001b[0;34m(\u001b[0m\u001b[0mneg_ldavis\u001b[0m\u001b[0;34m)\u001b[0m \u001b[0;31m#Display visual\u001b[0m\u001b[0;34m\u001b[0m\u001b[0;34m\u001b[0m\u001b[0m\n\u001b[0m",
      "\u001b[0;32m~/opt/anaconda3/lib/python3.7/site-packages/pyLDAvis/_display.py\u001b[0m in \u001b[0;36mdisplay\u001b[0;34m(data, local, **kwargs)\u001b[0m\n\u001b[1;32m    220\u001b[0m         \u001b[0mkwargs\u001b[0m\u001b[0;34m[\u001b[0m\u001b[0;34m'd3_url'\u001b[0m\u001b[0;34m]\u001b[0m\u001b[0;34m,\u001b[0m \u001b[0mkwargs\u001b[0m\u001b[0;34m[\u001b[0m\u001b[0;34m'ldavis_url'\u001b[0m\u001b[0;34m]\u001b[0m\u001b[0;34m,\u001b[0m \u001b[0mkwargs\u001b[0m\u001b[0;34m[\u001b[0m\u001b[0;34m'ldavis_css_url'\u001b[0m\u001b[0;34m]\u001b[0m \u001b[0;34m=\u001b[0m \u001b[0mwrite_ipynb_local_js\u001b[0m\u001b[0;34m(\u001b[0m\u001b[0;34m)\u001b[0m\u001b[0;34m\u001b[0m\u001b[0;34m\u001b[0m\u001b[0m\n\u001b[1;32m    221\u001b[0m \u001b[0;34m\u001b[0m\u001b[0m\n\u001b[0;32m--> 222\u001b[0;31m     \u001b[0;32mreturn\u001b[0m \u001b[0mHTML\u001b[0m\u001b[0;34m(\u001b[0m\u001b[0mprepared_data_to_html\u001b[0m\u001b[0;34m(\u001b[0m\u001b[0mdata\u001b[0m\u001b[0;34m,\u001b[0m \u001b[0;34m**\u001b[0m\u001b[0mkwargs\u001b[0m\u001b[0;34m)\u001b[0m\u001b[0;34m)\u001b[0m\u001b[0;34m\u001b[0m\u001b[0;34m\u001b[0m\u001b[0m\n\u001b[0m\u001b[1;32m    223\u001b[0m \u001b[0;34m\u001b[0m\u001b[0m\n\u001b[1;32m    224\u001b[0m def show(data, ip='127.0.0.1', port=8888, n_retries=50,\n",
      "\u001b[0;32m~/opt/anaconda3/lib/python3.7/site-packages/pyLDAvis/_display.py\u001b[0m in \u001b[0;36mprepared_data_to_html\u001b[0;34m(data, d3_url, ldavis_url, ldavis_css_url, template_type, visid, use_http)\u001b[0m\n\u001b[1;32m    176\u001b[0m                            \u001b[0md3_url\u001b[0m\u001b[0;34m=\u001b[0m\u001b[0md3_url\u001b[0m\u001b[0;34m,\u001b[0m\u001b[0;34m\u001b[0m\u001b[0;34m\u001b[0m\u001b[0m\n\u001b[1;32m    177\u001b[0m                            \u001b[0mldavis_url\u001b[0m\u001b[0;34m=\u001b[0m\u001b[0mldavis_url\u001b[0m\u001b[0;34m,\u001b[0m\u001b[0;34m\u001b[0m\u001b[0;34m\u001b[0m\u001b[0m\n\u001b[0;32m--> 178\u001b[0;31m                            \u001b[0mvis_json\u001b[0m\u001b[0;34m=\u001b[0m\u001b[0mdata\u001b[0m\u001b[0;34m.\u001b[0m\u001b[0mto_json\u001b[0m\u001b[0;34m(\u001b[0m\u001b[0;34m)\u001b[0m\u001b[0;34m,\u001b[0m\u001b[0;34m\u001b[0m\u001b[0;34m\u001b[0m\u001b[0m\n\u001b[0m\u001b[1;32m    179\u001b[0m                            ldavis_css_url=ldavis_css_url)\n\u001b[1;32m    180\u001b[0m \u001b[0;34m\u001b[0m\u001b[0m\n",
      "\u001b[0;32m~/opt/anaconda3/lib/python3.7/site-packages/pyLDAvis/_prepare.py\u001b[0m in \u001b[0;36mto_json\u001b[0;34m(self)\u001b[0m\n\u001b[1;32m    415\u001b[0m \u001b[0;34m\u001b[0m\u001b[0m\n\u001b[1;32m    416\u001b[0m     \u001b[0;32mdef\u001b[0m \u001b[0mto_json\u001b[0m\u001b[0;34m(\u001b[0m\u001b[0mself\u001b[0m\u001b[0;34m)\u001b[0m\u001b[0;34m:\u001b[0m\u001b[0;34m\u001b[0m\u001b[0;34m\u001b[0m\u001b[0m\n\u001b[0;32m--> 417\u001b[0;31m        \u001b[0;32mreturn\u001b[0m \u001b[0mjson\u001b[0m\u001b[0;34m.\u001b[0m\u001b[0mdumps\u001b[0m\u001b[0;34m(\u001b[0m\u001b[0mself\u001b[0m\u001b[0;34m.\u001b[0m\u001b[0mto_dict\u001b[0m\u001b[0;34m(\u001b[0m\u001b[0;34m)\u001b[0m\u001b[0;34m,\u001b[0m \u001b[0mcls\u001b[0m\u001b[0;34m=\u001b[0m\u001b[0mNumPyEncoder\u001b[0m\u001b[0;34m)\u001b[0m\u001b[0;34m\u001b[0m\u001b[0;34m\u001b[0m\u001b[0m\n\u001b[0m",
      "\u001b[0;32m~/opt/anaconda3/lib/python3.7/json/__init__.py\u001b[0m in \u001b[0;36mdumps\u001b[0;34m(obj, skipkeys, ensure_ascii, check_circular, allow_nan, cls, indent, separators, default, sort_keys, **kw)\u001b[0m\n\u001b[1;32m    236\u001b[0m         \u001b[0mcheck_circular\u001b[0m\u001b[0;34m=\u001b[0m\u001b[0mcheck_circular\u001b[0m\u001b[0;34m,\u001b[0m \u001b[0mallow_nan\u001b[0m\u001b[0;34m=\u001b[0m\u001b[0mallow_nan\u001b[0m\u001b[0;34m,\u001b[0m \u001b[0mindent\u001b[0m\u001b[0;34m=\u001b[0m\u001b[0mindent\u001b[0m\u001b[0;34m,\u001b[0m\u001b[0;34m\u001b[0m\u001b[0;34m\u001b[0m\u001b[0m\n\u001b[1;32m    237\u001b[0m         \u001b[0mseparators\u001b[0m\u001b[0;34m=\u001b[0m\u001b[0mseparators\u001b[0m\u001b[0;34m,\u001b[0m \u001b[0mdefault\u001b[0m\u001b[0;34m=\u001b[0m\u001b[0mdefault\u001b[0m\u001b[0;34m,\u001b[0m \u001b[0msort_keys\u001b[0m\u001b[0;34m=\u001b[0m\u001b[0msort_keys\u001b[0m\u001b[0;34m,\u001b[0m\u001b[0;34m\u001b[0m\u001b[0;34m\u001b[0m\u001b[0m\n\u001b[0;32m--> 238\u001b[0;31m         **kw).encode(obj)\n\u001b[0m\u001b[1;32m    239\u001b[0m \u001b[0;34m\u001b[0m\u001b[0m\n\u001b[1;32m    240\u001b[0m \u001b[0;34m\u001b[0m\u001b[0m\n",
      "\u001b[0;32m~/opt/anaconda3/lib/python3.7/json/encoder.py\u001b[0m in \u001b[0;36mencode\u001b[0;34m(self, o)\u001b[0m\n\u001b[1;32m    197\u001b[0m         \u001b[0;31m# exceptions aren't as detailed.  The list call should be roughly\u001b[0m\u001b[0;34m\u001b[0m\u001b[0;34m\u001b[0m\u001b[0;34m\u001b[0m\u001b[0m\n\u001b[1;32m    198\u001b[0m         \u001b[0;31m# equivalent to the PySequence_Fast that ''.join() would do.\u001b[0m\u001b[0;34m\u001b[0m\u001b[0;34m\u001b[0m\u001b[0;34m\u001b[0m\u001b[0m\n\u001b[0;32m--> 199\u001b[0;31m         \u001b[0mchunks\u001b[0m \u001b[0;34m=\u001b[0m \u001b[0mself\u001b[0m\u001b[0;34m.\u001b[0m\u001b[0miterencode\u001b[0m\u001b[0;34m(\u001b[0m\u001b[0mo\u001b[0m\u001b[0;34m,\u001b[0m \u001b[0m_one_shot\u001b[0m\u001b[0;34m=\u001b[0m\u001b[0;32mTrue\u001b[0m\u001b[0;34m)\u001b[0m\u001b[0;34m\u001b[0m\u001b[0;34m\u001b[0m\u001b[0m\n\u001b[0m\u001b[1;32m    200\u001b[0m         \u001b[0;32mif\u001b[0m \u001b[0;32mnot\u001b[0m \u001b[0misinstance\u001b[0m\u001b[0;34m(\u001b[0m\u001b[0mchunks\u001b[0m\u001b[0;34m,\u001b[0m \u001b[0;34m(\u001b[0m\u001b[0mlist\u001b[0m\u001b[0;34m,\u001b[0m \u001b[0mtuple\u001b[0m\u001b[0;34m)\u001b[0m\u001b[0;34m)\u001b[0m\u001b[0;34m:\u001b[0m\u001b[0;34m\u001b[0m\u001b[0;34m\u001b[0m\u001b[0m\n\u001b[1;32m    201\u001b[0m             \u001b[0mchunks\u001b[0m \u001b[0;34m=\u001b[0m \u001b[0mlist\u001b[0m\u001b[0;34m(\u001b[0m\u001b[0mchunks\u001b[0m\u001b[0;34m)\u001b[0m\u001b[0;34m\u001b[0m\u001b[0;34m\u001b[0m\u001b[0m\n",
      "\u001b[0;32m~/opt/anaconda3/lib/python3.7/json/encoder.py\u001b[0m in \u001b[0;36miterencode\u001b[0;34m(self, o, _one_shot)\u001b[0m\n\u001b[1;32m    255\u001b[0m                 \u001b[0mself\u001b[0m\u001b[0;34m.\u001b[0m\u001b[0mkey_separator\u001b[0m\u001b[0;34m,\u001b[0m \u001b[0mself\u001b[0m\u001b[0;34m.\u001b[0m\u001b[0mitem_separator\u001b[0m\u001b[0;34m,\u001b[0m \u001b[0mself\u001b[0m\u001b[0;34m.\u001b[0m\u001b[0msort_keys\u001b[0m\u001b[0;34m,\u001b[0m\u001b[0;34m\u001b[0m\u001b[0;34m\u001b[0m\u001b[0m\n\u001b[1;32m    256\u001b[0m                 self.skipkeys, _one_shot)\n\u001b[0;32m--> 257\u001b[0;31m         \u001b[0;32mreturn\u001b[0m \u001b[0m_iterencode\u001b[0m\u001b[0;34m(\u001b[0m\u001b[0mo\u001b[0m\u001b[0;34m,\u001b[0m \u001b[0;36m0\u001b[0m\u001b[0;34m)\u001b[0m\u001b[0;34m\u001b[0m\u001b[0;34m\u001b[0m\u001b[0m\n\u001b[0m\u001b[1;32m    258\u001b[0m \u001b[0;34m\u001b[0m\u001b[0m\n\u001b[1;32m    259\u001b[0m def _make_iterencode(markers, _default, _encoder, _indent, _floatstr,\n",
      "\u001b[0;32m~/opt/anaconda3/lib/python3.7/site-packages/pyLDAvis/utils.py\u001b[0m in \u001b[0;36mdefault\u001b[0;34m(self, obj)\u001b[0m\n\u001b[1;32m    144\u001b[0m         \u001b[0;32mif\u001b[0m \u001b[0misinstance\u001b[0m\u001b[0;34m(\u001b[0m\u001b[0mobj\u001b[0m\u001b[0;34m,\u001b[0m \u001b[0mnp\u001b[0m\u001b[0;34m.\u001b[0m\u001b[0mfloat64\u001b[0m\u001b[0;34m)\u001b[0m \u001b[0;32mor\u001b[0m \u001b[0misinstance\u001b[0m\u001b[0;34m(\u001b[0m\u001b[0mobj\u001b[0m\u001b[0;34m,\u001b[0m \u001b[0mnp\u001b[0m\u001b[0;34m.\u001b[0m\u001b[0mfloat32\u001b[0m\u001b[0;34m)\u001b[0m\u001b[0;34m:\u001b[0m\u001b[0;34m\u001b[0m\u001b[0;34m\u001b[0m\u001b[0m\n\u001b[1;32m    145\u001b[0m             \u001b[0;32mreturn\u001b[0m \u001b[0mfloat\u001b[0m\u001b[0;34m(\u001b[0m\u001b[0mobj\u001b[0m\u001b[0;34m)\u001b[0m\u001b[0;34m\u001b[0m\u001b[0;34m\u001b[0m\u001b[0m\n\u001b[0;32m--> 146\u001b[0;31m         \u001b[0;32mreturn\u001b[0m \u001b[0mjson\u001b[0m\u001b[0;34m.\u001b[0m\u001b[0mJSONEncoder\u001b[0m\u001b[0;34m.\u001b[0m\u001b[0mdefault\u001b[0m\u001b[0;34m(\u001b[0m\u001b[0mself\u001b[0m\u001b[0;34m,\u001b[0m \u001b[0mobj\u001b[0m\u001b[0;34m)\u001b[0m\u001b[0;34m\u001b[0m\u001b[0;34m\u001b[0m\u001b[0m\n\u001b[0m",
      "\u001b[0;32m~/opt/anaconda3/lib/python3.7/json/encoder.py\u001b[0m in \u001b[0;36mdefault\u001b[0;34m(self, o)\u001b[0m\n\u001b[1;32m    177\u001b[0m \u001b[0;34m\u001b[0m\u001b[0m\n\u001b[1;32m    178\u001b[0m         \"\"\"\n\u001b[0;32m--> 179\u001b[0;31m         raise TypeError(f'Object of type {o.__class__.__name__} '\n\u001b[0m\u001b[1;32m    180\u001b[0m                         f'is not JSON serializable')\n\u001b[1;32m    181\u001b[0m \u001b[0;34m\u001b[0m\u001b[0m\n",
      "\u001b[0;31mTypeError\u001b[0m: Object of type complex is not JSON serializable"
     ]
    }
   ],
   "source": [
    "neg_ldavis = pyLDAvis.sklearn.prepare(neg_lda, word_vec, vectorizer) #Pass model, document-term matrix, and tfidf vectors to pyLDAvis.sklearn package\n",
    "pyLDAvis.display(neg_ldavis) #Display visual"
   ]
  },
  {
   "cell_type": "code",
   "execution_count": null,
   "metadata": {},
   "outputs": [],
   "source": []
  }
 ],
 "metadata": {
  "kernelspec": {
   "display_name": "Python 3",
   "language": "python",
   "name": "python3"
  },
  "language_info": {
   "codemirror_mode": {
    "name": "ipython",
    "version": 3
   },
   "file_extension": ".py",
   "mimetype": "text/x-python",
   "name": "python",
   "nbconvert_exporter": "python",
   "pygments_lexer": "ipython3",
   "version": "3.7.9"
  }
 },
 "nbformat": 4,
 "nbformat_minor": 4
}
