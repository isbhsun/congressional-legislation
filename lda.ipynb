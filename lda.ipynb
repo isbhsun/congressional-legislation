{
 "cells": [
  {
   "cell_type": "code",
   "execution_count": 32,
   "metadata": {},
   "outputs": [],
   "source": [
    "import re\n",
    "\n",
    "import numpy as np\n",
    "import pandas as pd\n",
    "from sklearn.decomposition import LatentDirichletAllocation\n",
    "from sklearn.feature_extraction.text import ENGLISH_STOP_WORDS, CountVectorizer\n",
    "from sklearn.metrics.pairwise import cosine_distances, euclidean_distances\n",
    "from sklearn.model_selection import GridSearchCV, train_test_split\n",
    "\n",
    "from sklearn.model_selection import RandomizedSearchCV, train_test_split\n",
    "from nltk.corpus import stopwords\n",
    "from scipy import stats"
   ]
  },
  {
   "cell_type": "code",
   "execution_count": 3,
   "metadata": {},
   "outputs": [],
   "source": [
    "import joblib"
   ]
  },
  {
   "cell_type": "code",
   "execution_count": 11,
   "metadata": {},
   "outputs": [],
   "source": [
    "bill_text_df = pd.read_csv('116bill_text.csv')"
   ]
  },
  {
   "cell_type": "code",
   "execution_count": 12,
   "metadata": {},
   "outputs": [
    {
     "name": "stdout",
     "output_type": "stream",
     "text": [
      "<class 'pandas.core.frame.DataFrame'>\n",
      "RangeIndex: 17503 entries, 0 to 17502\n",
      "Data columns (total 3 columns):\n",
      " #   Column    Non-Null Count  Dtype \n",
      "---  ------    --------------  ----- \n",
      " 0   bill_num  17503 non-null  object\n",
      " 1   type      17503 non-null  object\n",
      " 2   text      17503 non-null  object\n",
      "dtypes: object(3)\n",
      "memory usage: 410.4+ KB\n"
     ]
    }
   ],
   "source": [
    "bill_text_df.pop('Unnamed: 0')\n",
    "bill_text_df.info()"
   ]
  },
  {
   "cell_type": "code",
   "execution_count": 9,
   "metadata": {},
   "outputs": [
    {
     "data": {
      "text/html": [
       "<div>\n",
       "<style scoped>\n",
       "    .dataframe tbody tr th:only-of-type {\n",
       "        vertical-align: middle;\n",
       "    }\n",
       "\n",
       "    .dataframe tbody tr th {\n",
       "        vertical-align: top;\n",
       "    }\n",
       "\n",
       "    .dataframe thead th {\n",
       "        text-align: right;\n",
       "    }\n",
       "</style>\n",
       "<table border=\"1\" class=\"dataframe\">\n",
       "  <thead>\n",
       "    <tr style=\"text-align: right;\">\n",
       "      <th></th>\n",
       "      <th>bill_num</th>\n",
       "      <th>type</th>\n",
       "      <th>text</th>\n",
       "    </tr>\n",
       "  </thead>\n",
       "  <tbody>\n",
       "    <tr>\n",
       "      <th>0</th>\n",
       "      <td>s1379</td>\n",
       "      <td>enr</td>\n",
       "      <td>html body pre                               ...</td>\n",
       "    </tr>\n",
       "    <tr>\n",
       "      <th>1</th>\n",
       "      <td>s1379</td>\n",
       "      <td>is</td>\n",
       "      <td>html body pre         ltdocgt         congre...</td>\n",
       "    </tr>\n",
       "    <tr>\n",
       "      <th>2</th>\n",
       "      <td>s1379</td>\n",
       "      <td>es</td>\n",
       "      <td>html body pre         ltdocgt               ...</td>\n",
       "    </tr>\n",
       "    <tr>\n",
       "      <th>3</th>\n",
       "      <td>s1977</td>\n",
       "      <td>is</td>\n",
       "      <td>html body pre         ltdocgt         congre...</td>\n",
       "    </tr>\n",
       "    <tr>\n",
       "      <th>4</th>\n",
       "      <td>s4439</td>\n",
       "      <td>is</td>\n",
       "      <td>html body pre         ltdocgt         congre...</td>\n",
       "    </tr>\n",
       "    <tr>\n",
       "      <th>...</th>\n",
       "      <td>...</td>\n",
       "      <td>...</td>\n",
       "      <td>...</td>\n",
       "    </tr>\n",
       "    <tr>\n",
       "      <th>17498</th>\n",
       "      <td>hjres107</td>\n",
       "      <td>enr</td>\n",
       "      <td>html body pre                               ...</td>\n",
       "    </tr>\n",
       "    <tr>\n",
       "      <th>17499</th>\n",
       "      <td>hjres107</td>\n",
       "      <td>eh</td>\n",
       "      <td>html body pre         ltdocgt               ...</td>\n",
       "    </tr>\n",
       "    <tr>\n",
       "      <th>17500</th>\n",
       "      <td>hjres107</td>\n",
       "      <td>rds</td>\n",
       "      <td>html body pre         ltdocgt   congress    ...</td>\n",
       "    </tr>\n",
       "    <tr>\n",
       "      <th>17501</th>\n",
       "      <td>hjres9</td>\n",
       "      <td>ih</td>\n",
       "      <td>html body pre         ltdocgt         congre...</td>\n",
       "    </tr>\n",
       "    <tr>\n",
       "      <th>17502</th>\n",
       "      <td>hjres100</td>\n",
       "      <td>ih</td>\n",
       "      <td>html body pre         ltdocgt         congre...</td>\n",
       "    </tr>\n",
       "  </tbody>\n",
       "</table>\n",
       "<p>17503 rows × 3 columns</p>\n",
       "</div>"
      ],
      "text/plain": [
       "       bill_num type                                               text\n",
       "0         s1379  enr    html body pre                               ...\n",
       "1         s1379   is    html body pre         ltdocgt         congre...\n",
       "2         s1379   es    html body pre         ltdocgt               ...\n",
       "3         s1977   is    html body pre         ltdocgt         congre...\n",
       "4         s4439   is    html body pre         ltdocgt         congre...\n",
       "...         ...  ...                                                ...\n",
       "17498  hjres107  enr    html body pre                               ...\n",
       "17499  hjres107   eh    html body pre         ltdocgt               ...\n",
       "17500  hjres107  rds    html body pre         ltdocgt   congress    ...\n",
       "17501    hjres9   ih    html body pre         ltdocgt         congre...\n",
       "17502  hjres100   ih    html body pre         ltdocgt         congre...\n",
       "\n",
       "[17503 rows x 3 columns]"
      ]
     },
     "execution_count": 9,
     "metadata": {},
     "output_type": "execute_result"
    }
   ],
   "source": [
    "bill_text_df"
   ]
  },
  {
   "cell_type": "code",
   "execution_count": 17,
   "metadata": {},
   "outputs": [],
   "source": [
    "stopwords_ = set(stopwords.words('english'))\n",
    "additional_stopwords = ('congress', 'act', 'states', 'united', \n",
    "                        'house', '116th', 'html', 'bill', 'introduced', \n",
    "                        'title','gt')\n",
    "stopwords_ = stopwords_.union(additional_stopwords)\n",
    "tf_vectorizer = CountVectorizer(stop_words=stopwords_, max_df=0.85, min_df=2, max_features=1000)\n",
    "\n",
    "word_vec = tf_vectorizer.fit_transform(bill_text_df.text)"
   ]
  },
  {
   "cell_type": "code",
   "execution_count": 18,
   "metadata": {},
   "outputs": [],
   "source": [
    "from sklearn.decomposition import LatentDirichletAllocation\n",
    "\n",
    "lda = LatentDirichletAllocation(learning_method='online', n_jobs=-2, random_state=1659)"
   ]
  },
  {
   "cell_type": "code",
   "execution_count": 19,
   "metadata": {},
   "outputs": [
    {
     "data": {
      "text/plain": [
       "LatentDirichletAllocation(learning_method='online', n_jobs=-2,\n",
       "                          random_state=1659)"
      ]
     },
     "execution_count": 19,
     "metadata": {},
     "output_type": "execute_result"
    }
   ],
   "source": [
    "lda.fit(word_vec)"
   ]
  },
  {
   "cell_type": "code",
   "execution_count": 20,
   "metadata": {},
   "outputs": [
    {
     "data": {
      "text/plain": [
       "['tf_vec.joblib']"
      ]
     },
     "execution_count": 20,
     "metadata": {},
     "output_type": "execute_result"
    }
   ],
   "source": [
    "joblib.dump(lda, 'lda_model.joblib')\n",
    "joblib.dump(tf_vectorizer, 'tf_vec.joblib')"
   ]
  },
  {
   "cell_type": "code",
   "execution_count": 21,
   "metadata": {},
   "outputs": [],
   "source": [
    "lda = joblib.load('lda_model.joblib')\n",
    "tf_vectorizer = joblib.load('tf_vec.joblib')"
   ]
  },
  {
   "cell_type": "code",
   "execution_count": 22,
   "metadata": {},
   "outputs": [
    {
     "data": {
      "text/plain": [
       "array([[8.22400821e+02, 1.28948696e+03, 1.00271428e-01, ...,\n",
       "        1.53179978e+04, 1.00081536e-01, 1.00141389e-01],\n",
       "       [7.81430956e+02, 1.07736657e+03, 9.40515257e+02, ...,\n",
       "        4.66940613e+03, 4.45692339e+01, 1.00029288e-01],\n",
       "       [2.48178171e+02, 3.70953908e+02, 1.04984032e-01, ...,\n",
       "        2.12976919e+03, 1.09146577e-01, 1.00005226e-01],\n",
       "       ...,\n",
       "       [1.00011518e-01, 2.97704969e+02, 5.59001560e+02, ...,\n",
       "        2.37459098e+04, 1.00240071e-01, 2.56129263e+02],\n",
       "       [1.23700166e+02, 1.17044859e+02, 1.11901973e-01, ...,\n",
       "        4.00392504e+02, 1.00042118e-01, 5.10931007e-01],\n",
       "       [4.78846432e+02, 1.11306781e+01, 8.51907314e+01, ...,\n",
       "        9.78441708e+03, 1.95067672e+04, 5.73390184e+01]])"
      ]
     },
     "execution_count": 22,
     "metadata": {},
     "output_type": "execute_result"
    }
   ],
   "source": [
    "lda.components_"
   ]
  },
  {
   "cell_type": "code",
   "execution_count": 25,
   "metadata": {},
   "outputs": [],
   "source": [
    "def top_topic_features(model, feature_names, num_features=15):\n",
    "    sorted_topics = feature_names[model.components_.argsort(axis=1)[:, ::-1][:, :num_features]]\n",
    "    return sorted_topics"
   ]
  },
  {
   "cell_type": "code",
   "execution_count": 26,
   "metadata": {},
   "outputs": [
    {
     "data": {
      "text/plain": [
       "array([['secretary', 'include', 'energy', 'subsection', 'federal',\n",
       "        'technology', 'use', 'research', 'program', 'project',\n",
       "        'paragraph', 'administrator', 'year', 'system', 'term'],\n",
       "       ['person', 'information', 'law', 'report', 'subsection',\n",
       "        'include', 'state', 'agency', 'federal', 'commission', 'term',\n",
       "        'foreign', 'date', 'government', 'security'],\n",
       "       ['loan', 'election', 'business', 'veteran', 'member', 'small',\n",
       "        'veterans', 'individual', 'state', 'federal', 'subsection',\n",
       "        'secretary', 'date', 'make', 'department'],\n",
       "       ['land', 'secretary', 'water', 'area', 'national', 'federal',\n",
       "        'indian', 'management', 'state', 'tribe', 'date', 'public',\n",
       "        'wilderness', 'use', 'usc'],\n",
       "       ['year', 'plan', 'amount', 'subsection', 'paragraph', 'drug',\n",
       "        'ii', 'amend', 'respect', 'subparagraph', 'code', 'make',\n",
       "        'payment', 'period', 'secretary'],\n",
       "       ['health', 'service', 'care', 'secretary', 'child', 'include',\n",
       "        'individual', 'public', 'provider', 'state', 'provide',\n",
       "        'medical', 'security', 'subsection', 'program'],\n",
       "       ['program', 'grant', 'state', 'education', 'eligible',\n",
       "        'secretary', 'institution', 'student', 'entity', 'include',\n",
       "        'year', 'school', 'provide', 'agency', 'local'],\n",
       "       ['fund', 'provide', 'available', 'make', 'program', 'amount',\n",
       "        'appropriation', 'expense', 'fiscal', 'appropriate',\n",
       "        'assistance', 'department', 'year', 'use', 'law'],\n",
       "       ['employee', 'emergency', 'employer', 'labor', 'secretary',\n",
       "        'provide', 'employment', 'worker', 'individual', 'period', 'usc',\n",
       "        'disaster', 'pay', 'term', 'date'],\n",
       "       ['mr', 'strike', 'insert', 'amend', 'ms', 'paragraph',\n",
       "        'subsection', 'york', 'code', 'end', 'new', 'usc', 'purpose',\n",
       "        'add', 'subparagraph']], dtype='<U15')"
      ]
     },
     "execution_count": 26,
     "metadata": {},
     "output_type": "execute_result"
    }
   ],
   "source": [
    "feature_names = np.array(tf_vectorizer.get_feature_names())\n",
    "top_topic_features(lda, feature_names=feature_names)"
   ]
  },
  {
   "cell_type": "code",
   "execution_count": 35,
   "metadata": {},
   "outputs": [],
   "source": [
    "X_train, X_test = train_test_split(word_vec, random_state=1659)\n",
    "\n",
    "params = {'n_components': [10, 15, 20, 25], \n",
    "          'doc_topic_prior': stats.uniform(),\n",
    "          'topic_word_prior': stats.uniform(),\n",
    "          'learning_offset': stats.uniform(10, 90)}\n",
    "lda.set_params(**{'verbose': 0, 'n_jobs': -2})\n",
    "lda_cv = RandomizedSearchCV(lda, params, n_iter=1, n_jobs=-2)\n",
    "\n",
    "results = {'mean_test_score': [],\n",
    "'std_test_score': [],\n",
    "'params': []}"
   ]
  },
  {
   "cell_type": "code",
   "execution_count": 36,
   "metadata": {},
   "outputs": [],
   "source": [
    "\n",
    "n_iter = 2\n",
    "\n",
    "for _ in range(n_iter):\n",
    "    lda_cv.fit(X_train)\n",
    "    results['mean_test_score'].append(lda_cv.cv_results_['mean_test_score'][0])\n",
    "    results['std_test_score'].append(lda_cv.cv_results_['std_test_score'][0])\n",
    "    results['params'].append(lda_cv.cv_results_['params'][0])"
   ]
  },
  {
   "cell_type": "code",
   "execution_count": 37,
   "metadata": {},
   "outputs": [
    {
     "data": {
      "text/html": [
       "<div>\n",
       "<style scoped>\n",
       "    .dataframe tbody tr th:only-of-type {\n",
       "        vertical-align: middle;\n",
       "    }\n",
       "\n",
       "    .dataframe tbody tr th {\n",
       "        vertical-align: top;\n",
       "    }\n",
       "\n",
       "    .dataframe thead th {\n",
       "        text-align: right;\n",
       "    }\n",
       "</style>\n",
       "<table border=\"1\" class=\"dataframe\">\n",
       "  <thead>\n",
       "    <tr style=\"text-align: right;\">\n",
       "      <th></th>\n",
       "      <th>mean_test_score</th>\n",
       "      <th>std_test_score</th>\n",
       "      <th>params</th>\n",
       "    </tr>\n",
       "  </thead>\n",
       "  <tbody>\n",
       "    <tr>\n",
       "      <th>0</th>\n",
       "      <td>-1.228887e+07</td>\n",
       "      <td>838624.589772</td>\n",
       "      <td>{'doc_topic_prior': 0.772393402455979, 'learni...</td>\n",
       "    </tr>\n",
       "    <tr>\n",
       "      <th>1</th>\n",
       "      <td>-1.234932e+07</td>\n",
       "      <td>837992.711743</td>\n",
       "      <td>{'doc_topic_prior': 0.24210823184129304, 'lear...</td>\n",
       "    </tr>\n",
       "  </tbody>\n",
       "</table>\n",
       "</div>"
      ],
      "text/plain": [
       "   mean_test_score  std_test_score  \\\n",
       "0    -1.228887e+07   838624.589772   \n",
       "1    -1.234932e+07   837992.711743   \n",
       "\n",
       "                                              params  \n",
       "0  {'doc_topic_prior': 0.772393402455979, 'learni...  \n",
       "1  {'doc_topic_prior': 0.24210823184129304, 'lear...  "
      ]
     },
     "execution_count": 37,
     "metadata": {},
     "output_type": "execute_result"
    }
   ],
   "source": [
    "df_results = pd.DataFrame(results)\n",
    "df_results.to_csv('lda_tuning.csv', index=False)\n",
    "df_results.head()"
   ]
  },
  {
   "cell_type": "code",
   "execution_count": 39,
   "metadata": {},
   "outputs": [],
   "source": [
    "thing = df_results['params']"
   ]
  },
  {
   "cell_type": "code",
   "execution_count": 40,
   "metadata": {},
   "outputs": [
    {
     "data": {
      "text/plain": [
       "{'doc_topic_prior': 0.772393402455979,\n",
       " 'learning_offset': 43.89834108330891,\n",
       " 'n_components': 15,\n",
       " 'topic_word_prior': 0.3674649966864506}"
      ]
     },
     "execution_count": 40,
     "metadata": {},
     "output_type": "execute_result"
    }
   ],
   "source": [
    "thing[0]"
   ]
  },
  {
   "cell_type": "code",
   "execution_count": 41,
   "metadata": {},
   "outputs": [
    {
     "data": {
      "text/plain": [
       "{'doc_topic_prior': 0.24210823184129304,\n",
       " 'learning_offset': 20.32172534056673,\n",
       " 'n_components': 10,\n",
       " 'topic_word_prior': 0.33782122069279574}"
      ]
     },
     "execution_count": 41,
     "metadata": {},
     "output_type": "execute_result"
    }
   ],
   "source": [
    "thing[1]"
   ]
  },
  {
   "cell_type": "code",
   "execution_count": null,
   "metadata": {},
   "outputs": [],
   "source": []
  }
 ],
 "metadata": {
  "kernelspec": {
   "display_name": "Python 3",
   "language": "python",
   "name": "python3"
  },
  "language_info": {
   "codemirror_mode": {
    "name": "ipython",
    "version": 3
   },
   "file_extension": ".py",
   "mimetype": "text/x-python",
   "name": "python",
   "nbconvert_exporter": "python",
   "pygments_lexer": "ipython3",
   "version": "3.7.9"
  }
 },
 "nbformat": 4,
 "nbformat_minor": 4
}
