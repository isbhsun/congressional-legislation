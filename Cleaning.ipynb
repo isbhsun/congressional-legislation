{
 "cells": [
  {
   "cell_type": "code",
   "execution_count": 85,
   "metadata": {},
   "outputs": [],
   "source": [
    "import numpy as np\n",
    "import pandas as pd\n",
    "import json\n",
    "import zipfile\n",
    "from bs4 import BeautifulSoup"
   ]
  },
  {
   "cell_type": "code",
   "execution_count": 15,
   "metadata": {},
   "outputs": [],
   "source": [
    "thing = open('data/116/bills/s/s1/data.json')\n",
    "bill = json.load(thing)"
   ]
  },
  {
   "cell_type": "code",
   "execution_count": 26,
   "metadata": {},
   "outputs": [
    {
     "data": {
      "text/plain": [
       "dict_keys(['actions', 'amendments', 'bill_id', 'bill_type', 'by_request', 'committee_reports', 'committees', 'congress', 'cosponsors', 'enacted_as', 'history', 'introduced_at', 'number', 'official_title', 'popular_title', 'related_bills', 'short_title', 'sponsor', 'status', 'status_at', 'subjects', 'subjects_top_term', 'summary', 'titles', 'updated_at', 'url'])"
      ]
     },
     "execution_count": 26,
     "metadata": {},
     "output_type": "execute_result"
    }
   ],
   "source": [
    "bill.keys()"
   ]
  },
  {
   "cell_type": "code",
   "execution_count": 74,
   "metadata": {},
   "outputs": [],
   "source": [
    "actions = pd.DataFrame(bill['actions'])\n",
    "cosponsors = pd.DataFrame(bill['cosponsors'])\n",
    "cosponsors['sponsor'] = False"
   ]
  },
  {
   "cell_type": "code",
   "execution_count": 79,
   "metadata": {},
   "outputs": [],
   "source": [
    "bill['sponsor']['sponsor'] = True\n",
    "sponsor = bill['sponsor']\n",
    "cosponsors.append(sponsor, ignore_index = True)"
   ]
  },
  {
   "cell_type": "code",
   "execution_count": 83,
   "metadata": {},
   "outputs": [
    {
     "data": {
      "text/html": [
       "<div>\n",
       "<style scoped>\n",
       "    .dataframe tbody tr th:only-of-type {\n",
       "        vertical-align: middle;\n",
       "    }\n",
       "\n",
       "    .dataframe tbody tr th {\n",
       "        vertical-align: top;\n",
       "    }\n",
       "\n",
       "    .dataframe thead th {\n",
       "        text-align: right;\n",
       "    }\n",
       "</style>\n",
       "<table border=\"1\" class=\"dataframe\">\n",
       "  <thead>\n",
       "    <tr style=\"text-align: right;\">\n",
       "      <th></th>\n",
       "      <th>bioguide_id</th>\n",
       "      <th>district</th>\n",
       "      <th>name</th>\n",
       "      <th>original_cosponsor</th>\n",
       "      <th>sponsored_at</th>\n",
       "      <th>state</th>\n",
       "      <th>title</th>\n",
       "      <th>withdrawn_at</th>\n",
       "      <th>sponsor</th>\n",
       "    </tr>\n",
       "  </thead>\n",
       "  <tbody>\n",
       "    <tr>\n",
       "      <th>0</th>\n",
       "      <td>B000575</td>\n",
       "      <td>None</td>\n",
       "      <td>Blunt, Roy</td>\n",
       "      <td>True</td>\n",
       "      <td>2019-01-03</td>\n",
       "      <td>MO</td>\n",
       "      <td>Sen</td>\n",
       "      <td>None</td>\n",
       "      <td>False</td>\n",
       "    </tr>\n",
       "    <tr>\n",
       "      <th>1</th>\n",
       "      <td>C001035</td>\n",
       "      <td>None</td>\n",
       "      <td>Collins, Susan M.</td>\n",
       "      <td>False</td>\n",
       "      <td>2019-01-14</td>\n",
       "      <td>ME</td>\n",
       "      <td>Sen</td>\n",
       "      <td>None</td>\n",
       "      <td>False</td>\n",
       "    </tr>\n",
       "    <tr>\n",
       "      <th>2</th>\n",
       "      <td>C001096</td>\n",
       "      <td>None</td>\n",
       "      <td>Cramer, Kevin</td>\n",
       "      <td>False</td>\n",
       "      <td>2019-01-08</td>\n",
       "      <td>ND</td>\n",
       "      <td>Sen</td>\n",
       "      <td>None</td>\n",
       "      <td>False</td>\n",
       "    </tr>\n",
       "    <tr>\n",
       "      <th>3</th>\n",
       "      <td>C001098</td>\n",
       "      <td>None</td>\n",
       "      <td>Cruz, Ted</td>\n",
       "      <td>False</td>\n",
       "      <td>2019-01-08</td>\n",
       "      <td>TX</td>\n",
       "      <td>Sen</td>\n",
       "      <td>None</td>\n",
       "      <td>False</td>\n",
       "    </tr>\n",
       "    <tr>\n",
       "      <th>4</th>\n",
       "      <td>G000562</td>\n",
       "      <td>None</td>\n",
       "      <td>Gardner, Cory</td>\n",
       "      <td>True</td>\n",
       "      <td>2019-01-03</td>\n",
       "      <td>CO</td>\n",
       "      <td>Sen</td>\n",
       "      <td>None</td>\n",
       "      <td>False</td>\n",
       "    </tr>\n",
       "    <tr>\n",
       "      <th>5</th>\n",
       "      <td>H001079</td>\n",
       "      <td>None</td>\n",
       "      <td>Hyde-Smith, Cindy</td>\n",
       "      <td>False</td>\n",
       "      <td>2019-01-10</td>\n",
       "      <td>MS</td>\n",
       "      <td>Sen</td>\n",
       "      <td>None</td>\n",
       "      <td>False</td>\n",
       "    </tr>\n",
       "    <tr>\n",
       "      <th>6</th>\n",
       "      <td>I000024</td>\n",
       "      <td>None</td>\n",
       "      <td>Inhofe, James M.</td>\n",
       "      <td>False</td>\n",
       "      <td>2019-01-30</td>\n",
       "      <td>OK</td>\n",
       "      <td>Sen</td>\n",
       "      <td>None</td>\n",
       "      <td>False</td>\n",
       "    </tr>\n",
       "    <tr>\n",
       "      <th>7</th>\n",
       "      <td>M000355</td>\n",
       "      <td>None</td>\n",
       "      <td>McConnell, Mitch</td>\n",
       "      <td>True</td>\n",
       "      <td>2019-01-03</td>\n",
       "      <td>KY</td>\n",
       "      <td>Sen</td>\n",
       "      <td>None</td>\n",
       "      <td>False</td>\n",
       "    </tr>\n",
       "    <tr>\n",
       "      <th>8</th>\n",
       "      <td>R000584</td>\n",
       "      <td>None</td>\n",
       "      <td>Risch, James E.</td>\n",
       "      <td>False</td>\n",
       "      <td>2019-01-09</td>\n",
       "      <td>ID</td>\n",
       "      <td>Sen</td>\n",
       "      <td>None</td>\n",
       "      <td>False</td>\n",
       "    </tr>\n",
       "    <tr>\n",
       "      <th>9</th>\n",
       "      <td>R000307</td>\n",
       "      <td>None</td>\n",
       "      <td>Roberts, Pat</td>\n",
       "      <td>False</td>\n",
       "      <td>2019-01-29</td>\n",
       "      <td>KS</td>\n",
       "      <td>Sen</td>\n",
       "      <td>None</td>\n",
       "      <td>False</td>\n",
       "    </tr>\n",
       "    <tr>\n",
       "      <th>10</th>\n",
       "      <td>R000605</td>\n",
       "      <td>None</td>\n",
       "      <td>Rounds, Mike</td>\n",
       "      <td>False</td>\n",
       "      <td>2019-01-28</td>\n",
       "      <td>SD</td>\n",
       "      <td>Sen</td>\n",
       "      <td>None</td>\n",
       "      <td>False</td>\n",
       "    </tr>\n",
       "    <tr>\n",
       "      <th>11</th>\n",
       "      <td>W000437</td>\n",
       "      <td>None</td>\n",
       "      <td>Wicker, Roger F.</td>\n",
       "      <td>False</td>\n",
       "      <td>2019-01-08</td>\n",
       "      <td>MS</td>\n",
       "      <td>Sen</td>\n",
       "      <td>None</td>\n",
       "      <td>False</td>\n",
       "    </tr>\n",
       "  </tbody>\n",
       "</table>\n",
       "</div>"
      ],
      "text/plain": [
       "   bioguide_id district               name  original_cosponsor sponsored_at  \\\n",
       "0      B000575     None         Blunt, Roy                True   2019-01-03   \n",
       "1      C001035     None  Collins, Susan M.               False   2019-01-14   \n",
       "2      C001096     None      Cramer, Kevin               False   2019-01-08   \n",
       "3      C001098     None          Cruz, Ted               False   2019-01-08   \n",
       "4      G000562     None      Gardner, Cory                True   2019-01-03   \n",
       "5      H001079     None  Hyde-Smith, Cindy               False   2019-01-10   \n",
       "6      I000024     None   Inhofe, James M.               False   2019-01-30   \n",
       "7      M000355     None   McConnell, Mitch                True   2019-01-03   \n",
       "8      R000584     None    Risch, James E.               False   2019-01-09   \n",
       "9      R000307     None       Roberts, Pat               False   2019-01-29   \n",
       "10     R000605     None       Rounds, Mike               False   2019-01-28   \n",
       "11     W000437     None   Wicker, Roger F.               False   2019-01-08   \n",
       "\n",
       "   state title withdrawn_at  sponsor  \n",
       "0     MO   Sen         None    False  \n",
       "1     ME   Sen         None    False  \n",
       "2     ND   Sen         None    False  \n",
       "3     TX   Sen         None    False  \n",
       "4     CO   Sen         None    False  \n",
       "5     MS   Sen         None    False  \n",
       "6     OK   Sen         None    False  \n",
       "7     KY   Sen         None    False  \n",
       "8     ID   Sen         None    False  \n",
       "9     KS   Sen         None    False  \n",
       "10    SD   Sen         None    False  \n",
       "11    MS   Sen         None    False  "
      ]
     },
     "execution_count": 83,
     "metadata": {},
     "output_type": "execute_result"
    }
   ],
   "source": [
    "cosponsors"
   ]
  },
  {
   "cell_type": "code",
   "execution_count": 90,
   "metadata": {},
   "outputs": [],
   "source": [
    "file = open('data/116/bills_text/s/s1/text-versions/pcs/BILLS-116s1pcs/html/BILLS-116s1pcs.htm')"
   ]
  },
  {
   "cell_type": "code",
   "execution_count": 92,
   "metadata": {},
   "outputs": [],
   "source": [
    "soup = BeautifulSoup(file, 'html.parser')"
   ]
  },
  {
   "cell_type": "code",
   "execution_count": 94,
   "metadata": {},
   "outputs": [],
   "source": [
    "folders = ['s', 'sjres', 'hr', 'hjres']"
   ]
  },
  {
   "cell_type": "code",
   "execution_count": null,
   "metadata": {},
   "outputs": [],
   "source": []
  }
 ],
 "metadata": {
  "kernelspec": {
   "display_name": "Python 3",
   "language": "python",
   "name": "python3"
  },
  "language_info": {
   "codemirror_mode": {
    "name": "ipython",
    "version": 3
   },
   "file_extension": ".py",
   "mimetype": "text/x-python",
   "name": "python",
   "nbconvert_exporter": "python",
   "pygments_lexer": "ipython3",
   "version": "3.7.9"
  }
 },
 "nbformat": 4,
 "nbformat_minor": 4
}
