{
 "cells": [
  {
   "cell_type": "code",
   "execution_count": 1,
   "metadata": {},
   "outputs": [],
   "source": [
    "import numpy as np\n",
    "import pandas as pd\n",
    "import json\n",
    "import zipfile\n",
    "from bs4 import BeautifulSoup\n",
    "import os\n",
    "from collections import Counter"
   ]
  },
  {
   "cell_type": "code",
   "execution_count": 2,
   "metadata": {},
   "outputs": [],
   "source": [
    "thing = open('data/116/bills/s/s1/data.json')\n",
    "bill = json.load(thing)"
   ]
  },
  {
   "cell_type": "code",
   "execution_count": 26,
   "metadata": {},
   "outputs": [
    {
     "data": {
      "text/plain": [
       "dict_keys(['actions', 'amendments', 'bill_id', 'bill_type', 'by_request', 'committee_reports', 'committees', 'congress', 'cosponsors', 'enacted_as', 'history', 'introduced_at', 'number', 'official_title', 'popular_title', 'related_bills', 'short_title', 'sponsor', 'status', 'status_at', 'subjects', 'subjects_top_term', 'summary', 'titles', 'updated_at', 'url'])"
      ]
     },
     "execution_count": 26,
     "metadata": {},
     "output_type": "execute_result"
    }
   ],
   "source": [
    "bill.keys()"
   ]
  },
  {
   "cell_type": "code",
   "execution_count": 74,
   "metadata": {},
   "outputs": [],
   "source": [
    "actions = pd.DataFrame(bill['actions'])\n",
    "cosponsors = pd.DataFrame(bill['cosponsors'])\n",
    "cosponsors['sponsor'] = False"
   ]
  },
  {
   "cell_type": "code",
   "execution_count": 79,
   "metadata": {},
   "outputs": [],
   "source": [
    "bill['sponsor']['sponsor'] = True\n",
    "sponsor = bill['sponsor']\n",
    "cosponsors.append(sponsor, ignore_index = True)"
   ]
  },
  {
   "cell_type": "code",
   "execution_count": 83,
   "metadata": {},
   "outputs": [
    {
     "data": {
      "text/html": [
       "<div>\n",
       "<style scoped>\n",
       "    .dataframe tbody tr th:only-of-type {\n",
       "        vertical-align: middle;\n",
       "    }\n",
       "\n",
       "    .dataframe tbody tr th {\n",
       "        vertical-align: top;\n",
       "    }\n",
       "\n",
       "    .dataframe thead th {\n",
       "        text-align: right;\n",
       "    }\n",
       "</style>\n",
       "<table border=\"1\" class=\"dataframe\">\n",
       "  <thead>\n",
       "    <tr style=\"text-align: right;\">\n",
       "      <th></th>\n",
       "      <th>bioguide_id</th>\n",
       "      <th>district</th>\n",
       "      <th>name</th>\n",
       "      <th>original_cosponsor</th>\n",
       "      <th>sponsored_at</th>\n",
       "      <th>state</th>\n",
       "      <th>title</th>\n",
       "      <th>withdrawn_at</th>\n",
       "      <th>sponsor</th>\n",
       "    </tr>\n",
       "  </thead>\n",
       "  <tbody>\n",
       "    <tr>\n",
       "      <th>0</th>\n",
       "      <td>B000575</td>\n",
       "      <td>None</td>\n",
       "      <td>Blunt, Roy</td>\n",
       "      <td>True</td>\n",
       "      <td>2019-01-03</td>\n",
       "      <td>MO</td>\n",
       "      <td>Sen</td>\n",
       "      <td>None</td>\n",
       "      <td>False</td>\n",
       "    </tr>\n",
       "    <tr>\n",
       "      <th>1</th>\n",
       "      <td>C001035</td>\n",
       "      <td>None</td>\n",
       "      <td>Collins, Susan M.</td>\n",
       "      <td>False</td>\n",
       "      <td>2019-01-14</td>\n",
       "      <td>ME</td>\n",
       "      <td>Sen</td>\n",
       "      <td>None</td>\n",
       "      <td>False</td>\n",
       "    </tr>\n",
       "    <tr>\n",
       "      <th>2</th>\n",
       "      <td>C001096</td>\n",
       "      <td>None</td>\n",
       "      <td>Cramer, Kevin</td>\n",
       "      <td>False</td>\n",
       "      <td>2019-01-08</td>\n",
       "      <td>ND</td>\n",
       "      <td>Sen</td>\n",
       "      <td>None</td>\n",
       "      <td>False</td>\n",
       "    </tr>\n",
       "    <tr>\n",
       "      <th>3</th>\n",
       "      <td>C001098</td>\n",
       "      <td>None</td>\n",
       "      <td>Cruz, Ted</td>\n",
       "      <td>False</td>\n",
       "      <td>2019-01-08</td>\n",
       "      <td>TX</td>\n",
       "      <td>Sen</td>\n",
       "      <td>None</td>\n",
       "      <td>False</td>\n",
       "    </tr>\n",
       "    <tr>\n",
       "      <th>4</th>\n",
       "      <td>G000562</td>\n",
       "      <td>None</td>\n",
       "      <td>Gardner, Cory</td>\n",
       "      <td>True</td>\n",
       "      <td>2019-01-03</td>\n",
       "      <td>CO</td>\n",
       "      <td>Sen</td>\n",
       "      <td>None</td>\n",
       "      <td>False</td>\n",
       "    </tr>\n",
       "    <tr>\n",
       "      <th>5</th>\n",
       "      <td>H001079</td>\n",
       "      <td>None</td>\n",
       "      <td>Hyde-Smith, Cindy</td>\n",
       "      <td>False</td>\n",
       "      <td>2019-01-10</td>\n",
       "      <td>MS</td>\n",
       "      <td>Sen</td>\n",
       "      <td>None</td>\n",
       "      <td>False</td>\n",
       "    </tr>\n",
       "    <tr>\n",
       "      <th>6</th>\n",
       "      <td>I000024</td>\n",
       "      <td>None</td>\n",
       "      <td>Inhofe, James M.</td>\n",
       "      <td>False</td>\n",
       "      <td>2019-01-30</td>\n",
       "      <td>OK</td>\n",
       "      <td>Sen</td>\n",
       "      <td>None</td>\n",
       "      <td>False</td>\n",
       "    </tr>\n",
       "    <tr>\n",
       "      <th>7</th>\n",
       "      <td>M000355</td>\n",
       "      <td>None</td>\n",
       "      <td>McConnell, Mitch</td>\n",
       "      <td>True</td>\n",
       "      <td>2019-01-03</td>\n",
       "      <td>KY</td>\n",
       "      <td>Sen</td>\n",
       "      <td>None</td>\n",
       "      <td>False</td>\n",
       "    </tr>\n",
       "    <tr>\n",
       "      <th>8</th>\n",
       "      <td>R000584</td>\n",
       "      <td>None</td>\n",
       "      <td>Risch, James E.</td>\n",
       "      <td>False</td>\n",
       "      <td>2019-01-09</td>\n",
       "      <td>ID</td>\n",
       "      <td>Sen</td>\n",
       "      <td>None</td>\n",
       "      <td>False</td>\n",
       "    </tr>\n",
       "    <tr>\n",
       "      <th>9</th>\n",
       "      <td>R000307</td>\n",
       "      <td>None</td>\n",
       "      <td>Roberts, Pat</td>\n",
       "      <td>False</td>\n",
       "      <td>2019-01-29</td>\n",
       "      <td>KS</td>\n",
       "      <td>Sen</td>\n",
       "      <td>None</td>\n",
       "      <td>False</td>\n",
       "    </tr>\n",
       "    <tr>\n",
       "      <th>10</th>\n",
       "      <td>R000605</td>\n",
       "      <td>None</td>\n",
       "      <td>Rounds, Mike</td>\n",
       "      <td>False</td>\n",
       "      <td>2019-01-28</td>\n",
       "      <td>SD</td>\n",
       "      <td>Sen</td>\n",
       "      <td>None</td>\n",
       "      <td>False</td>\n",
       "    </tr>\n",
       "    <tr>\n",
       "      <th>11</th>\n",
       "      <td>W000437</td>\n",
       "      <td>None</td>\n",
       "      <td>Wicker, Roger F.</td>\n",
       "      <td>False</td>\n",
       "      <td>2019-01-08</td>\n",
       "      <td>MS</td>\n",
       "      <td>Sen</td>\n",
       "      <td>None</td>\n",
       "      <td>False</td>\n",
       "    </tr>\n",
       "  </tbody>\n",
       "</table>\n",
       "</div>"
      ],
      "text/plain": [
       "   bioguide_id district               name  original_cosponsor sponsored_at  \\\n",
       "0      B000575     None         Blunt, Roy                True   2019-01-03   \n",
       "1      C001035     None  Collins, Susan M.               False   2019-01-14   \n",
       "2      C001096     None      Cramer, Kevin               False   2019-01-08   \n",
       "3      C001098     None          Cruz, Ted               False   2019-01-08   \n",
       "4      G000562     None      Gardner, Cory                True   2019-01-03   \n",
       "5      H001079     None  Hyde-Smith, Cindy               False   2019-01-10   \n",
       "6      I000024     None   Inhofe, James M.               False   2019-01-30   \n",
       "7      M000355     None   McConnell, Mitch                True   2019-01-03   \n",
       "8      R000584     None    Risch, James E.               False   2019-01-09   \n",
       "9      R000307     None       Roberts, Pat               False   2019-01-29   \n",
       "10     R000605     None       Rounds, Mike               False   2019-01-28   \n",
       "11     W000437     None   Wicker, Roger F.               False   2019-01-08   \n",
       "\n",
       "   state title withdrawn_at  sponsor  \n",
       "0     MO   Sen         None    False  \n",
       "1     ME   Sen         None    False  \n",
       "2     ND   Sen         None    False  \n",
       "3     TX   Sen         None    False  \n",
       "4     CO   Sen         None    False  \n",
       "5     MS   Sen         None    False  \n",
       "6     OK   Sen         None    False  \n",
       "7     KY   Sen         None    False  \n",
       "8     ID   Sen         None    False  \n",
       "9     KS   Sen         None    False  \n",
       "10    SD   Sen         None    False  \n",
       "11    MS   Sen         None    False  "
      ]
     },
     "execution_count": 83,
     "metadata": {},
     "output_type": "execute_result"
    }
   ],
   "source": [
    "cosponsors"
   ]
  },
  {
   "cell_type": "code",
   "execution_count": 25,
   "metadata": {},
   "outputs": [],
   "source": [
    "bill_type = ['s', 'sjres', 'hr', 'hjres']\n",
    "folders1 = ['bills', 'bills_text']"
   ]
  },
  {
   "cell_type": "code",
   "execution_count": 30,
   "metadata": {},
   "outputs": [],
   "source": [
    "rootdir = 'data/116/bills/s'\n",
    "thing = []\n",
    "for folder in bill_type:\n",
    "    rootdir = 'data/116/bills/'+folder\n",
    "    for subdir, dirs, files in os.walk(rootdir):\n",
    "        for file in files:\n",
    "            thing.append(os.path.join(subdir, file))"
   ]
  },
  {
   "cell_type": "code",
   "execution_count": 31,
   "metadata": {},
   "outputs": [],
   "source": [
    "new_thing = []\n",
    "for i in thing:\n",
    "    if 'data.json' in i:\n",
    "        new_thing.append(i)"
   ]
  },
  {
   "cell_type": "code",
   "execution_count": 34,
   "metadata": {},
   "outputs": [
    {
     "data": {
      "text/plain": [
       "14269"
      ]
     },
     "execution_count": 34,
     "metadata": {},
     "output_type": "execute_result"
    }
   ],
   "source": [
    "len(new_thing)"
   ]
  },
  {
   "cell_type": "code",
   "execution_count": 42,
   "metadata": {},
   "outputs": [],
   "source": [
    "file = open('data/116/bills_text/s/s1/text-versions/pcs/BILLS-116s1pcs/html/BILLS-116s1pcs.htm')\n",
    "soup = BeautifulSoup(file, 'html.parser')"
   ]
  },
  {
   "cell_type": "code",
   "execution_count": 86,
   "metadata": {},
   "outputs": [],
   "source": [
    "thing = []\n",
    "for folder in bill_type:\n",
    "    rootdir = 'data/116/bills_text/'+folder\n",
    "    for subdir, dirs, files in os.walk(rootdir):\n",
    "        for file in files:\n",
    "            thing.append(os.path.join(subdir, file))"
   ]
  },
  {
   "cell_type": "code",
   "execution_count": 96,
   "metadata": {},
   "outputs": [],
   "source": [
    "zipped = [x for x in thing if '.zip' in x]"
   ]
  },
  {
   "cell_type": "code",
   "execution_count": 99,
   "metadata": {},
   "outputs": [
    {
     "name": "stdout",
     "output_type": "stream",
     "text": [
      "['data/116/bills_text/s/s4091/.DS_Store']\n",
      "['data/116/bills_text/s/s1/.DS_Store']\n"
     ]
    }
   ],
   "source": [
    "new_thing = []\n",
    "for i in thing:\n",
    "    new_thing.append(i.split('text-versions/'))\n",
    "    \n",
    "new_new_thing = []\n",
    "for i in new_thing:\n",
    "    try:\n",
    "        second = i[1]\n",
    "        new_new_thing.append(second.split('/'))\n",
    "    except:\n",
    "        print(i)\n",
    "\n",
    "folders_set = set()\n",
    "for i in new_new_thing:\n",
    "    folders_set.add(i[0])\n",
    "    \n",
    "just_folders = []\n",
    "for i in new_new_thing:\n",
    "    just_folders.append(i[0])\n",
    "\n",
    "c = Counter(just_folders)"
   ]
  },
  {
   "cell_type": "code",
   "execution_count": 85,
   "metadata": {},
   "outputs": [],
   "source": [
    "version_def = {'ih': 'Introduced in House',\n",
    " 'is': 'Introduced in Senate',\n",
    " 'eh': 'Engrossed (House) - version that is the official copy as passed before it is sent to the Senate',\n",
    " 'es': 'Engrossed (Senate) - version that is the official copy as passed before sent to House',\n",
    " 'rh': 'Reported in (House) - version reported by the committee(s) including changes if any. It is then available for floor consideration',\n",
    " 'rs': 'Reported in (Senate) - version reported by the committee(s) including changes if any. It is then available for floor consideration',\n",
    " 'cph': 'Considered and passed by house',\n",
    " 'cps': 'Considered and passed by Senate',\n",
    " 'rfh': 'Referred to House committee after being recieved from Senate',\n",
    " 'rfs': 'Referred to Senate commidttee after being recieved from House', \n",
    " 'eah': 'Engrossed Amendment (House) - same as EH but often is the engrossment of an amendment which replaces the entire text of a measure',\n",
    " 'eas': 'Engrossed Amendment (Senate) - same as ES but often is the engrossment of an amendment which replaces the entire text of a measure',\n",
    " 'pch': 'Version placed on House calendar for consideration',\n",
    " 'pcs': 'Version placed on the Senate calendar for consideration',\n",
    " 'rch': 'Reference change (House) - version re-referred to different or additional committee',\n",
    " 'rcs': 'Reference change (Senate) - version re-referred to different or additional committee',\n",
    " 'iph': 'Indefinitely postponed',\n",
    " 'ips': 'Indefinitely postponed',\n",
    " 'rdh': 'recieved in House from Senate',\n",
    " 'rds': 'received in Senate from House',\n",
    " 'enr': 'Initial copy of a bill or joint resolution which has passed both houses in identical form'\n",
    "}"
   ]
  },
  {
   "cell_type": "code",
   "execution_count": 100,
   "metadata": {},
   "outputs": [],
   "source": [
    "versions = list(version_def.keys())"
   ]
  },
  {
   "cell_type": "code",
   "execution_count": 101,
   "metadata": {},
   "outputs": [
    {
     "data": {
      "text/plain": [
       "['ih',\n",
       " 'is',\n",
       " 'eh',\n",
       " 'es',\n",
       " 'rh',\n",
       " 'rs',\n",
       " 'cph',\n",
       " 'cps',\n",
       " 'rfh',\n",
       " 'rfs',\n",
       " 'eah',\n",
       " 'eas',\n",
       " 'pch',\n",
       " 'pcs',\n",
       " 'rch',\n",
       " 'rcs',\n",
       " 'iph',\n",
       " 'ips',\n",
       " 'rdh',\n",
       " 'rds',\n",
       " 'enr']"
      ]
     },
     "execution_count": 101,
     "metadata": {},
     "output_type": "execute_result"
    }
   ],
   "source": [
    "versions"
   ]
  },
  {
   "cell_type": "code",
   "execution_count": 156,
   "metadata": {},
   "outputs": [],
   "source": [
    "big_dict = {'bill_num':[],\n",
    "            'type':[],\n",
    "            'text':[]}"
   ]
  },
  {
   "cell_type": "code",
   "execution_count": 157,
   "metadata": {},
   "outputs": [
    {
     "name": "stdout",
     "output_type": "stream",
     "text": [
      "data/116/bills_text/s/s4091/.DS_Store\n",
      "data/116/bills_text/s/s4091/text-versions/.DS_Store\n",
      "data/116/bills_text/s/s4091/text-versions/enr/.DS_Store\n",
      "data/116/bills_text/s/s4091/text-versions/enr/BILLS-116s4091enr/mods.xml\n",
      "data/116/bills_text/s/s4091/text-versions/enr/BILLS-116s4091enr/premis.xml\n",
      "data/116/bills_text/s/s4091/text-versions/enr/BILLS-116s4091enr/dip.xml\n",
      "data/116/bills_text/s/s4091/text-versions/enr/BILLS-116s4091enr/pdf/BILLS-116s4091enr.pdf\n",
      "data/116/bills_text/s/s4091/text-versions/enr/BILLS-116s4091enr/html/BILLS-116s4091enr.htm\n",
      "data/116/bills_text/s/s4091/text-versions/enr/BILLS-116s4091enr/xml/BILLS-116s4091enr.xml\n",
      "data/116/bills_text/s/s4091/text-versions/enr/BILLS-116s4091enr/uslm/BILLS-116s4091enr.xml\n",
      "data/116/bills_text/s/s4091/text-versions/cps/.DS_Store\n",
      "data/116/bills_text/s/s1/.DS_Store\n",
      "data/116/bills_text/s/s1/text-versions/.DS_Store\n",
      "data/116/bills_text/s/s1/text-versions/pcs/.DS_Store\n",
      "data/116/bills_text/s/s1/text-versions/pcs/BILLS-116s1pcs/mods.xml\n",
      "data/116/bills_text/s/s1/text-versions/pcs/BILLS-116s1pcs/premis.xml\n",
      "data/116/bills_text/s/s1/text-versions/pcs/BILLS-116s1pcs/dip.xml\n",
      "data/116/bills_text/s/s1/text-versions/pcs/BILLS-116s1pcs/pdf/BILLS-116s1pcs.pdf\n",
      "data/116/bills_text/s/s1/text-versions/pcs/BILLS-116s1pcs/html/BILLS-116s1pcs.htm\n",
      "data/116/bills_text/s/s1/text-versions/pcs/BILLS-116s1pcs/xml/BILLS-116s1pcs.xml\n"
     ]
    }
   ],
   "source": [
    "\n",
    "for i in range(len(thing)):\n",
    "    try:\n",
    "        path_elems = thing[i].split('/')\n",
    "        unzipped_folder = \"BILLS-\" + path_elems[1] + path_elems[4] + path_elems[6]\n",
    "        html_file_path = unzipped_folder + \"/html/\" + unzipped_folder + '.htm'\n",
    "\n",
    "        zf = zipfile.ZipFile(thing[i])\n",
    "        file = zf.open(html_file_path)\n",
    "        soup = BeautifulSoup(file, 'html.parser')\n",
    "        \n",
    "        big_dict['bill_num'].append(path_elems[4])\n",
    "        big_dict['type'].append(path_elems[6])\n",
    "        big_dict['text'].append(soup)\n",
    "        \n",
    "    except:\n",
    "        print(thing[i])"
   ]
  },
  {
   "cell_type": "code",
   "execution_count": 159,
   "metadata": {},
   "outputs": [],
   "source": [
    "bill_text_df = pd.DataFrame(big_dict)"
   ]
  },
  {
   "cell_type": "code",
   "execution_count": 160,
   "metadata": {},
   "outputs": [
    {
     "data": {
      "text/html": [
       "<div>\n",
       "<style scoped>\n",
       "    .dataframe tbody tr th:only-of-type {\n",
       "        vertical-align: middle;\n",
       "    }\n",
       "\n",
       "    .dataframe tbody tr th {\n",
       "        vertical-align: top;\n",
       "    }\n",
       "\n",
       "    .dataframe thead th {\n",
       "        text-align: right;\n",
       "    }\n",
       "</style>\n",
       "<table border=\"1\" class=\"dataframe\">\n",
       "  <thead>\n",
       "    <tr style=\"text-align: right;\">\n",
       "      <th></th>\n",
       "      <th>bill_num</th>\n",
       "      <th>type</th>\n",
       "      <th>text</th>\n",
       "    </tr>\n",
       "  </thead>\n",
       "  <tbody>\n",
       "    <tr>\n",
       "      <th>0</th>\n",
       "      <td>s1379</td>\n",
       "      <td>enr</td>\n",
       "      <td>[[[&lt;pre&gt;\\n[Congressional Bills 116th Congress]...</td>\n",
       "    </tr>\n",
       "    <tr>\n",
       "      <th>1</th>\n",
       "      <td>s1379</td>\n",
       "      <td>is</td>\n",
       "      <td>[[[&lt;pre&gt;\\n[Congressional Bills 116th Congress]...</td>\n",
       "    </tr>\n",
       "    <tr>\n",
       "      <th>2</th>\n",
       "      <td>s1379</td>\n",
       "      <td>es</td>\n",
       "      <td>[[[&lt;pre&gt;\\n[Congressional Bills 116th Congress]...</td>\n",
       "    </tr>\n",
       "    <tr>\n",
       "      <th>3</th>\n",
       "      <td>s1977</td>\n",
       "      <td>is</td>\n",
       "      <td>[[[&lt;pre&gt;\\n[Congressional Bills 116th Congress]...</td>\n",
       "    </tr>\n",
       "    <tr>\n",
       "      <th>4</th>\n",
       "      <td>s4439</td>\n",
       "      <td>is</td>\n",
       "      <td>[[[&lt;pre&gt;\\n[Congressional Bills 116th Congress]...</td>\n",
       "    </tr>\n",
       "    <tr>\n",
       "      <th>...</th>\n",
       "      <td>...</td>\n",
       "      <td>...</td>\n",
       "      <td>...</td>\n",
       "    </tr>\n",
       "    <tr>\n",
       "      <th>6029</th>\n",
       "      <td>sjres46</td>\n",
       "      <td>es</td>\n",
       "      <td>[[[&lt;pre&gt;\\n[Congressional Bills 116th Congress]...</td>\n",
       "    </tr>\n",
       "    <tr>\n",
       "      <th>6030</th>\n",
       "      <td>sjres12</td>\n",
       "      <td>is</td>\n",
       "      <td>[[[&lt;pre&gt;\\n[Congressional Bills 116th Congress]...</td>\n",
       "    </tr>\n",
       "    <tr>\n",
       "      <th>6031</th>\n",
       "      <td>sjres15</td>\n",
       "      <td>is</td>\n",
       "      <td>[[[&lt;pre&gt;\\n[Congressional Bills 116th Congress]...</td>\n",
       "    </tr>\n",
       "    <tr>\n",
       "      <th>6032</th>\n",
       "      <td>sjres23</td>\n",
       "      <td>is</td>\n",
       "      <td>[[[&lt;pre&gt;\\n[Congressional Bills 116th Congress]...</td>\n",
       "    </tr>\n",
       "    <tr>\n",
       "      <th>6033</th>\n",
       "      <td>sjres24</td>\n",
       "      <td>is</td>\n",
       "      <td>[[[&lt;pre&gt;\\n[Congressional Bills 116th Congress]...</td>\n",
       "    </tr>\n",
       "  </tbody>\n",
       "</table>\n",
       "<p>6034 rows × 3 columns</p>\n",
       "</div>"
      ],
      "text/plain": [
       "     bill_num type                                               text\n",
       "0       s1379  enr  [[[<pre>\\n[Congressional Bills 116th Congress]...\n",
       "1       s1379   is  [[[<pre>\\n[Congressional Bills 116th Congress]...\n",
       "2       s1379   es  [[[<pre>\\n[Congressional Bills 116th Congress]...\n",
       "3       s1977   is  [[[<pre>\\n[Congressional Bills 116th Congress]...\n",
       "4       s4439   is  [[[<pre>\\n[Congressional Bills 116th Congress]...\n",
       "...       ...  ...                                                ...\n",
       "6029  sjres46   es  [[[<pre>\\n[Congressional Bills 116th Congress]...\n",
       "6030  sjres12   is  [[[<pre>\\n[Congressional Bills 116th Congress]...\n",
       "6031  sjres15   is  [[[<pre>\\n[Congressional Bills 116th Congress]...\n",
       "6032  sjres23   is  [[[<pre>\\n[Congressional Bills 116th Congress]...\n",
       "6033  sjres24   is  [[[<pre>\\n[Congressional Bills 116th Congress]...\n",
       "\n",
       "[6034 rows x 3 columns]"
      ]
     },
     "execution_count": 160,
     "metadata": {},
     "output_type": "execute_result"
    }
   ],
   "source": [
    "bill_text_df"
   ]
  },
  {
   "cell_type": "code",
   "execution_count": 161,
   "metadata": {},
   "outputs": [
    {
     "data": {
      "text/plain": [
       "6054"
      ]
     },
     "execution_count": 161,
     "metadata": {},
     "output_type": "execute_result"
    }
   ],
   "source": [
    "len(thing)"
   ]
  },
  {
   "cell_type": "code",
   "execution_count": null,
   "metadata": {},
   "outputs": [],
   "source": []
  }
 ],
 "metadata": {
  "kernelspec": {
   "display_name": "Python 3",
   "language": "python",
   "name": "python3"
  },
  "language_info": {
   "codemirror_mode": {
    "name": "ipython",
    "version": 3
   },
   "file_extension": ".py",
   "mimetype": "text/x-python",
   "name": "python",
   "nbconvert_exporter": "python",
   "pygments_lexer": "ipython3",
   "version": "3.7.9"
  }
 },
 "nbformat": 4,
 "nbformat_minor": 4
}
